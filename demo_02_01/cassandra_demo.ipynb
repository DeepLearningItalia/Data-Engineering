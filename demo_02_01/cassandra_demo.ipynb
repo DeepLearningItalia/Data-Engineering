{
 "cells": [
  {
   "cell_type": "code",
   "execution_count": 1,
   "metadata": {
    "editable": true
   },
   "outputs": [],
   "source": [
    "import pandas as pd\n",
    "import glob"
   ]
  },
  {
   "cell_type": "markdown",
   "metadata": {},
   "source": [
    "Unire tutti i dati nei CSV files dentro `data` in un singolo Pandas dataframe in memoria."
   ]
  },
  {
   "cell_type": "code",
   "execution_count": 2,
   "metadata": {},
   "outputs": [
    {
     "data": {
      "text/html": [
       "<div>\n",
       "<style scoped>\n",
       "    .dataframe tbody tr th:only-of-type {\n",
       "        vertical-align: middle;\n",
       "    }\n",
       "\n",
       "    .dataframe tbody tr th {\n",
       "        vertical-align: top;\n",
       "    }\n",
       "\n",
       "    .dataframe thead th {\n",
       "        text-align: right;\n",
       "    }\n",
       "</style>\n",
       "<table border=\"1\" class=\"dataframe\">\n",
       "  <thead>\n",
       "    <tr style=\"text-align: right;\">\n",
       "      <th></th>\n",
       "      <th>artist</th>\n",
       "      <th>firstName</th>\n",
       "      <th>gender</th>\n",
       "      <th>itemInSession</th>\n",
       "      <th>lastName</th>\n",
       "      <th>length</th>\n",
       "      <th>level</th>\n",
       "      <th>location</th>\n",
       "      <th>sessionId</th>\n",
       "      <th>song</th>\n",
       "      <th>userId</th>\n",
       "    </tr>\n",
       "  </thead>\n",
       "  <tbody>\n",
       "    <tr>\n",
       "      <th>0</th>\n",
       "      <td>Harmonia</td>\n",
       "      <td>Ryan</td>\n",
       "      <td>M</td>\n",
       "      <td>0</td>\n",
       "      <td>Smith</td>\n",
       "      <td>655.77751</td>\n",
       "      <td>free</td>\n",
       "      <td>San Jose-Sunnyvale-Santa Clara, CA</td>\n",
       "      <td>583</td>\n",
       "      <td>Sehr kosmisch</td>\n",
       "      <td>26.0</td>\n",
       "    </tr>\n",
       "    <tr>\n",
       "      <th>1</th>\n",
       "      <td>The Prodigy</td>\n",
       "      <td>Ryan</td>\n",
       "      <td>M</td>\n",
       "      <td>1</td>\n",
       "      <td>Smith</td>\n",
       "      <td>260.07465</td>\n",
       "      <td>free</td>\n",
       "      <td>San Jose-Sunnyvale-Santa Clara, CA</td>\n",
       "      <td>583</td>\n",
       "      <td>The Big Gundown</td>\n",
       "      <td>26.0</td>\n",
       "    </tr>\n",
       "    <tr>\n",
       "      <th>2</th>\n",
       "      <td>Train</td>\n",
       "      <td>Ryan</td>\n",
       "      <td>M</td>\n",
       "      <td>2</td>\n",
       "      <td>Smith</td>\n",
       "      <td>205.45261</td>\n",
       "      <td>free</td>\n",
       "      <td>San Jose-Sunnyvale-Santa Clara, CA</td>\n",
       "      <td>583</td>\n",
       "      <td>Marry Me</td>\n",
       "      <td>26.0</td>\n",
       "    </tr>\n",
       "    <tr>\n",
       "      <th>5</th>\n",
       "      <td>Sony Wonder</td>\n",
       "      <td>Samuel</td>\n",
       "      <td>M</td>\n",
       "      <td>0</td>\n",
       "      <td>Gonzalez</td>\n",
       "      <td>218.06975</td>\n",
       "      <td>free</td>\n",
       "      <td>Houston-The Woodlands-Sugar Land, TX</td>\n",
       "      <td>597</td>\n",
       "      <td>Blackbird</td>\n",
       "      <td>61.0</td>\n",
       "    </tr>\n",
       "    <tr>\n",
       "      <th>9</th>\n",
       "      <td>Van Halen</td>\n",
       "      <td>Tegan</td>\n",
       "      <td>F</td>\n",
       "      <td>2</td>\n",
       "      <td>Levine</td>\n",
       "      <td>289.38404</td>\n",
       "      <td>paid</td>\n",
       "      <td>Portland-South Portland, ME</td>\n",
       "      <td>602</td>\n",
       "      <td>Best Of Both Worlds (Remastered Album Version)</td>\n",
       "      <td>80.0</td>\n",
       "    </tr>\n",
       "  </tbody>\n",
       "</table>\n",
       "</div>"
      ],
      "text/plain": [
       "        artist firstName gender  itemInSession  lastName     length level  \\\n",
       "0     Harmonia      Ryan      M              0     Smith  655.77751  free   \n",
       "1  The Prodigy      Ryan      M              1     Smith  260.07465  free   \n",
       "2        Train      Ryan      M              2     Smith  205.45261  free   \n",
       "5  Sony Wonder    Samuel      M              0  Gonzalez  218.06975  free   \n",
       "9    Van Halen     Tegan      F              2    Levine  289.38404  paid   \n",
       "\n",
       "                               location  sessionId  \\\n",
       "0    San Jose-Sunnyvale-Santa Clara, CA        583   \n",
       "1    San Jose-Sunnyvale-Santa Clara, CA        583   \n",
       "2    San Jose-Sunnyvale-Santa Clara, CA        583   \n",
       "5  Houston-The Woodlands-Sugar Land, TX        597   \n",
       "9           Portland-South Portland, ME        602   \n",
       "\n",
       "                                             song  userId  \n",
       "0                                   Sehr kosmisch    26.0  \n",
       "1                                 The Big Gundown    26.0  \n",
       "2                                        Marry Me    26.0  \n",
       "5                                       Blackbird    61.0  \n",
       "9  Best Of Both Worlds (Remastered Album Version)    80.0  "
      ]
     },
     "execution_count": 2,
     "metadata": {},
     "output_type": "execute_result"
    }
   ],
   "source": [
    "columns_to_keep = [\n",
    "    \"artist\",\n",
    "    \"firstName\",\n",
    "    \"gender\",\n",
    "    \"itemInSession\",\n",
    "    \"lastName\",\n",
    "    \"length\",\n",
    "    \"level\",\n",
    "    \"location\",\n",
    "    \"sessionId\",\n",
    "    \"song\",\n",
    "    \"userId\",\n",
    "]\n",
    "dfs = []\n",
    "for csv_f in glob.glob(\"data/*.csv\"):\n",
    "    dfs.append(pd.read_csv(csv_f, index_col=None, header=0))\n",
    "\n",
    "df = pd.concat(dfs, axis=0, ignore_index=True)\n",
    "df = df[columns_to_keep]\n",
    "df.dropna(how=\"any\", inplace=True)\n",
    "df.head()"
   ]
  },
  {
   "cell_type": "markdown",
   "metadata": {
    "editable": true
   },
   "source": [
    "#### Creare un Cluster\n",
    "\n",
    "Per eseguire Apache Cassandra all'interno di un contenitore Docker, procedere come segue:\n",
    "\n",
    "1. Assicurarsi che Docker sia installato localmente.\n",
    "2. Eseguire `docker pull cassandra` per recuperare l'ultima immagine da DockerHub.\n",
    "3. Eseguire `docker run --name cassandra-container -p 9042:9042 -d cassandra:latest` per avviare un container sulla porta 9042.\n",
    "4. Per fermare il contenitore, eseguire `docker stop cassandra-container`.\n",
    "\n",
    "Se Apache Cassandra è installato altrove, l'indirizzo IP all'interno dell'oggetto Cluster deve essere modificato di conseguenza.\n"
   ]
  },
  {
   "cell_type": "code",
   "execution_count": 3,
   "metadata": {
    "editable": true
   },
   "outputs": [],
   "source": [
    "from cassandra.cluster import Cluster\n",
    "cluster = Cluster([\"127.0.0.1\"])\n",
    "session = cluster.connect()"
   ]
  },
  {
   "cell_type": "markdown",
   "metadata": {
    "editable": true
   },
   "source": [
    "Creare una Keyspace\n"
   ]
  },
  {
   "cell_type": "code",
   "execution_count": 4,
   "metadata": {
    "editable": true
   },
   "outputs": [],
   "source": [
    "try:\n",
    "    session.execute(\n",
    "        \"\"\"CREATE KEYSPACE IF NOT EXISTS demo0201db\n",
    "                        WITH REPLICATION = { 'class' : 'SimpleStrategy', 'replication_factor' : 1 }\"\"\"\n",
    "    )\n",
    "except Exception as e:\n",
    "    print(e)"
   ]
  },
  {
   "cell_type": "markdown",
   "metadata": {
    "editable": true
   },
   "source": [
    "Impostare un Keyspace\n"
   ]
  },
  {
   "cell_type": "code",
   "execution_count": 5,
   "metadata": {
    "editable": true
   },
   "outputs": [],
   "source": [
    "try:\n",
    "    session.set_keyspace(\"demo0201db\")\n",
    "except Exception as e:\n",
    "    print(e)"
   ]
  },
  {
   "cell_type": "markdown",
   "metadata": {
    "editable": true
   },
   "source": [
    "## Query 1:\n",
    "\n",
    "`Forniscimi l'artista, il titolo della canzone e la lunghezza della canzone nella cronologia dell'applicazione musicale che è stata ascoltata durante sessionId = 338 e itemInSession = 4`.\n",
    "\n",
    "Poiché la query filtra per `sessionId` e `itemInSession`, questi campi devono essere inclusi nella `PRIMARY KEY`.\n"
   ]
  },
  {
   "cell_type": "code",
   "execution_count": 6,
   "metadata": {
    "editable": true
   },
   "outputs": [],
   "source": [
    "# set up song_info_by_session and select statement\n",
    "create_query1_tbl = \"\"\"CREATE TABLE IF NOT EXISTS song_info_by_session\n",
    "                       (sessionId int, itemInSession int, artist text, song text, length float, PRIMARY KEY(sessionId, itemInSession));\"\"\"\n",
    "try:\n",
    "    session.execute(create_query1_tbl)\n",
    "except Exception as e:\n",
    "    print(e)\n",
    "\n",
    "query1 = \"\"\"SELECT artist, song, length FROM song_info_by_session \n",
    "            WHERE sessionId=338 AND itemInSession=4;\"\"\""
   ]
  },
  {
   "cell_type": "code",
   "execution_count": 7,
   "metadata": {
    "editable": true
   },
   "outputs": [],
   "source": [
    "# populate song_info_by_session\n",
    "for i,row in df.iterrows():\n",
    "    query = \"INSERT INTO song_info_by_session (sessionId, itemInSession, artist, song, length) VALUES \"\n",
    "    query = query + \"(%s, %s, %s, %s, %s);\"\n",
    "    session.execute(query, (int(row[8]), int(row[3]), row[0], row[9], row[5]))"
   ]
  },
  {
   "cell_type": "code",
   "execution_count": 8,
   "metadata": {
    "editable": true,
    "scrolled": true
   },
   "outputs": [
    {
     "name": "stdout",
     "output_type": "stream",
     "text": [
      "Faithless|Music Matters (Mark Knight Dub)|495.30731201171875\n"
     ]
    }
   ],
   "source": [
    "## inspect song_info_by_session content\n",
    "try:\n",
    "    rows = session.execute(query1)\n",
    "except Exception as e:\n",
    "    print(e)\n",
    "\n",
    "for row in rows:\n",
    "    res = (row.artist, row.song, str(row.length))\n",
    "    print(\"|\".join(res))"
   ]
  },
  {
   "cell_type": "markdown",
   "metadata": {
    "editable": true
   },
   "source": [
    "## Query2:\n",
    "\n",
    "`Dammi solo i seguenti dati: nome dell'artista, canzone (ordinati per itemInSession) e utente (nome e cognome) per userid = 10, sessionid = 182`.\n",
    "\n",
    "`sessionId` e `userId` sono usati per il filtraggio, ma `itemInSession` è usato per l'ordinamento. I primi due file sono stati raggruppati insieme, mentre il terzo viene utilizzato come colonna di raggruppamento.\n"
   ]
  },
  {
   "cell_type": "code",
   "execution_count": 9,
   "metadata": {
    "editable": true
   },
   "outputs": [
    {
     "name": "stdout",
     "output_type": "stream",
     "text": [
      "Down To The Bone|Keep On Keepin' On|Sylvie Cruz\n",
      "Three Drives|Greece 2000|Sylvie Cruz\n",
      "Sebastien Tellier|Kilometer|Sylvie Cruz\n",
      "Lonnie Gordon|Catch You Baby (Steve Pitron & Max Sanna Radio Edit)|Sylvie Cruz\n"
     ]
    }
   ],
   "source": [
    "# set up song_info_by_user_session and select statement\n",
    "create_query2_tbl = \"\"\"CREATE TABLE IF NOT EXISTS song_info_by_user_session\n",
    "                       (sessionId int, userId int, itemInSession int, artist text, song text, user text, PRIMARY KEY((sessionId, userId), itemInSession));\"\"\"\n",
    "try:\n",
    "    session.execute(create_query2_tbl)\n",
    "except Exception as e:\n",
    "    print(e)\n",
    "\n",
    "query2 = \"\"\"SELECT artist, song, user FROM song_info_by_user_session\n",
    "            WHERE sessionId=182 AND userId=10;\"\"\"\n",
    "\n",
    "## populate song_info_by_user_session\n",
    "for i,row in df.iterrows():\n",
    "    query = \"INSERT INTO song_info_by_user_session (sessionId, userId, itemInSession, artist, song, user) VALUES \"\n",
    "    query = query + \"(%s, %s, %s, %s, %s, %s);\"\n",
    "    session.execute(\n",
    "        query,\n",
    "        (\n",
    "            int(row[8]),\n",
    "            int(row[10]),\n",
    "            int(row[3]),\n",
    "            row[0],\n",
    "            row[9],\n",
    "            row[1] + \" \" + row[4],\n",
    "        ),\n",
    "    )\n",
    "\n",
    "## inspect song_info_by_user_session content\n",
    "try:\n",
    "    rows = session.execute(query2)\n",
    "except Exception as e:\n",
    "    print(e)\n",
    "\n",
    "for row in rows:\n",
    "    res = (row.artist, row.song, row.user)\n",
    "    print(\"|\".join(res))"
   ]
  },
  {
   "cell_type": "markdown",
   "metadata": {
    "editable": true
   },
   "source": [
    "Pulire l'ambiente di sviluppo\n"
   ]
  },
  {
   "cell_type": "code",
   "execution_count": 10,
   "metadata": {
    "editable": true
   },
   "outputs": [],
   "source": [
    "try:\n",
    "    session.execute(\"DROP TABLE song_info_by_session;\")\n",
    "except Exception as e:\n",
    "    print(e)\n",
    "\n",
    "try:\n",
    "    session.execute(\"DROP TABLE song_info_by_user_session;\")\n",
    "except Exception as e:\n",
    "    print(e)\n",
    "\n",
    "session.shutdown()\n",
    "cluster.shutdown()\n"
   ]
  }
 ],
 "metadata": {
  "kernelspec": {
   "display_name": "Python 3",
   "language": "python",
   "name": "python3"
  },
  "language_info": {
   "codemirror_mode": {
    "name": "ipython",
    "version": 3
   },
   "file_extension": ".py",
   "mimetype": "text/x-python",
   "name": "python",
   "nbconvert_exporter": "python",
   "pygments_lexer": "ipython3",
   "version": "3.8.16"
  }
 },
 "nbformat": 4,
 "nbformat_minor": 4
}
