{
 "cells": [
  {
   "cell_type": "markdown",
   "metadata": {},
   "source": [
    "Per eseguire la demo all'interno di un contenitore Docker, procedere come segue:\n",
    "\n",
    "1. Assicurarsi che Docker sia installato localmente.\n",
    "2. Eseguire `docker pull jupyter/pyspark-notebook` per recuperare l'ultima immagine da DockerHub.\n",
    "3. Eseguire `docker run --name pyspark-notebook -p 8888:8888 -p 4040:4040 -d pyspark-notebook:latest` per avviare un container.\n",
    "4. Per fermare il contenitore, eseguire `docker stop pyspark-notebook`.\n",
    "\n",
    "Quando il container sara' attivo, usare VSCode ( o la vostra IDE di preferenza ) per attaccarsi al container.\n"
   ]
  },
  {
   "cell_type": "code",
   "execution_count": null,
   "metadata": {},
   "outputs": [],
   "source": [
    "# Required packages for Jupyter notebook\n",
    "# !conda install -y -q pyspark "
   ]
  },
  {
   "cell_type": "code",
   "execution_count": null,
   "metadata": {},
   "outputs": [],
   "source": [
    "from pyspark.sql import SparkSession\n",
    "import pyspark.sql.functions as F\n",
    "from pyspark.sql.types import IntegerType, StringType, StructType, StructField, DoubleType, LongType\n",
    "\n",
    "spark = SparkSession.builder.appName('demo_02_01').getOrCreate()"
   ]
  },
  {
   "cell_type": "markdown",
   "metadata": {},
   "source": [
    "Read CSV files into dataframe. Use explicit schema:"
   ]
  },
  {
   "cell_type": "code",
   "execution_count": null,
   "metadata": {},
   "outputs": [],
   "source": [
    "schema = StructType([\n",
    "                StructField(\"artist\", StringType(), True),\n",
    "                StructField(\"auth\", StringType(), True),\n",
    "                StructField(\"firstName\", StringType(), True),\n",
    "                StructField(\"gender\", StringType(), True),\n",
    "                StructField(\"itemInSession\", IntegerType(), True),\n",
    "                StructField(\"lastName\", StringType(), True),\n",
    "                StructField(\"length\", DoubleType(), True),\n",
    "                StructField(\"level\", StringType(), True),\n",
    "                StructField(\"location\", StringType(), True),\n",
    "                StructField(\"method\", StringType(), True),\n",
    "                StructField(\"page\", StringType(), True),\n",
    "                StructField(\"registration\", DoubleType(), True),\n",
    "                StructField(\"sessionId\", IntegerType(), True),\n",
    "                StructField(\"song\", StringType(), True),\n",
    "                StructField(\"status\", IntegerType(), True),\n",
    "                StructField(\"ts\", LongType(), True),\n",
    "                StructField(\"userAgent\", StringType(), True),\n",
    "                StructField(\"userId\", StringType(), True)\n",
    "        ])\n",
    "df = spark.read.option(\"header\", True).csv(\"data\", schema=schema)\n",
    "df.printSchema()"
   ]
  },
  {
   "cell_type": "markdown",
   "metadata": {},
   "source": [
    "Read CSV files into dataframe with InferSchema=True (default):"
   ]
  },
  {
   "cell_type": "code",
   "execution_count": null,
   "metadata": {},
   "outputs": [],
   "source": [
    "df = spark.read.option(\"delimiter\", \",\").option(\"header\", True).csv(\"data\")\n",
    "df.printSchema()"
   ]
  },
  {
   "cell_type": "code",
   "execution_count": null,
   "metadata": {},
   "outputs": [],
   "source": [
    "df.show(n=5,truncate=False)"
   ]
  },
  {
   "cell_type": "markdown",
   "metadata": {},
   "source": [
    "Filter data on a column:"
   ]
  },
  {
   "cell_type": "code",
   "execution_count": null,
   "metadata": {},
   "outputs": [],
   "source": [
    "print(f\"Original column shape: {df.count()}\")\n",
    "\n",
    "df = df.filter(F.col(\"page\") == \"NextSong\")\n",
    "\n",
    "print(f\"Original column shape: {df.count()}\")"
   ]
  },
  {
   "cell_type": "markdown",
   "metadata": {},
   "source": [
    "Manipulate dataframe to create a *user table* from data:"
   ]
  },
  {
   "cell_type": "code",
   "execution_count": null,
   "metadata": {},
   "outputs": [],
   "source": [
    "users_table = df.dropDuplicates([\"userId\"])\\\n",
    "                .select(F.col(\"userId\").alias(\"user_id\"),\n",
    "                        F.col(\"firstName\").alias(\"first_name\"),\n",
    "                        F.col(\"lastName\").alias(\"last_name\"),\n",
    "                        F.col(\"gender\"),\n",
    "                        F.col(\"level\"))\\\n",
    "                .where(F.col(\"user_id\").isNotNull())\n",
    "users_table.show(n=5,truncate=False)\n"
   ]
  },
  {
   "cell_type": "markdown",
   "metadata": {},
   "source": [
    "Write dataframe as parquet:"
   ]
  },
  {
   "cell_type": "code",
   "execution_count": null,
   "metadata": {},
   "outputs": [],
   "source": [
    "users_table.write.mode('overwrite').parquet(\"output_data/users_table\")"
   ]
  }
 ],
 "metadata": {
  "kernelspec": {
   "display_name": "Python 3",
   "language": "python",
   "name": "python3"
  },
  "language_info": {
   "codemirror_mode": {
    "name": "ipython",
    "version": 3
   },
   "file_extension": ".py",
   "mimetype": "text/x-python",
   "name": "python",
   "nbconvert_exporter": "python",
   "pygments_lexer": "ipython3",
   "version": "3.10.9"
  },
  "orig_nbformat": 4
 },
 "nbformat": 4,
 "nbformat_minor": 2
}
